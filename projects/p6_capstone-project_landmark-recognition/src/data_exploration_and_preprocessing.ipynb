{
 "cells": [
  {
   "cell_type": "markdown",
   "metadata": {},
   "source": [
    "# Data Exploration and Processing"
   ]
  },
  {
   "cell_type": "code",
   "execution_count": 2,
   "metadata": {},
   "outputs": [],
   "source": [
    "import numpy as np\n",
    "import matplotlib.pyplot as plt\n",
    "import pandas as pd\n",
    "from IPython.display import display # Allows the use of display() for DataFrames"
   ]
  },
  {
   "cell_type": "code",
   "execution_count": 3,
   "metadata": {},
   "outputs": [],
   "source": [
    "import sys, os\n",
    "from os import path"
   ]
  },
  {
   "cell_type": "code",
   "execution_count": 4,
   "metadata": {},
   "outputs": [],
   "source": [
    "# Pretty display for notebooks\n",
    "%matplotlib inline"
   ]
  },
  {
   "cell_type": "code",
   "execution_count": 5,
   "metadata": {},
   "outputs": [],
   "source": [
    "# Data paths definitions :\n",
    "data_dir = \"../data\"\n",
    "stats_dir = \"../docs/stats\"\n",
    "input_csv_dir = os.path.join(data_dir,\"input_csv\") #csv files that were dowlnoaded from kagggle\n",
    "train_dir = os.path.join(data_dir, \"train\") ##Training images directory\n",
    "validation_dir = os.path.join(data_dir, \"validation\") ##Validation images directory\n",
    "test_dir = os.path.join(data_dir, \"test\") ##Validation images directory"
   ]
  },
  {
   "cell_type": "markdown",
   "metadata": {},
   "source": [
    "The data was obtained from [CVDF Google Landmarks Dataset v2](https://github.com/cvdfoundation/google-landmark)"
   ]
  },
  {
   "cell_type": "markdown",
   "metadata": {},
   "source": [
    "## Data Exploration"
   ]
  },
  {
   "cell_type": "markdown",
   "metadata": {},
   "source": [
    "### Exploring file : train_label_to_category.csv"
   ]
  },
  {
   "cell_type": "markdown",
   "metadata": {},
   "source": [
    "[train_label_to_category.csv](https://s3.amazonaws.com/google-landmark/metadata/train_label_to_category.csv) : CSV with landmark_id,category fields:  \n",
    "    `landmark_id` is an integer, `category` is a Wikimedia URL referring to the\n",
    "    class definition.\n"
   ]
  },
  {
   "cell_type": "code",
   "execution_count": 6,
   "metadata": {},
   "outputs": [
    {
     "name": "stdout",
     "output_type": "stream",
     "text": [
      "File has 203094 samples with 2 features each.\n"
     ]
    }
   ],
   "source": [
    "# Load file\n",
    "try:\n",
    "    train_label_to_category = pd.read_csv(os.path.join(input_csv_dir, \"train_label_to_category.csv\"))\n",
    "    print(\"File has {} samples with {} features each.\".format(*train_label_to_category.shape))\n",
    "except:\n",
    "    print(\"File could not be loaded. Is the dataset missing?\")"
   ]
  },
  {
   "cell_type": "code",
   "execution_count": 7,
   "metadata": {},
   "outputs": [
    {
     "data": {
      "text/html": [
       "<div>\n",
       "<style scoped>\n",
       "    .dataframe tbody tr th:only-of-type {\n",
       "        vertical-align: middle;\n",
       "    }\n",
       "\n",
       "    .dataframe tbody tr th {\n",
       "        vertical-align: top;\n",
       "    }\n",
       "\n",
       "    .dataframe thead th {\n",
       "        text-align: right;\n",
       "    }\n",
       "</style>\n",
       "<table border=\"1\" class=\"dataframe\">\n",
       "  <thead>\n",
       "    <tr style=\"text-align: right;\">\n",
       "      <th></th>\n",
       "      <th>landmark_id</th>\n",
       "      <th>category</th>\n",
       "    </tr>\n",
       "  </thead>\n",
       "  <tbody>\n",
       "    <tr>\n",
       "      <th>0</th>\n",
       "      <td>0</td>\n",
       "      <td>http://commons.wikimedia.org/wiki/Category:Hap...</td>\n",
       "    </tr>\n",
       "    <tr>\n",
       "      <th>1</th>\n",
       "      <td>1</td>\n",
       "      <td>http://commons.wikimedia.org/wiki/Category:Lui...</td>\n",
       "    </tr>\n",
       "    <tr>\n",
       "      <th>2</th>\n",
       "      <td>2</td>\n",
       "      <td>http://commons.wikimedia.org/wiki/Category:Gra...</td>\n",
       "    </tr>\n",
       "    <tr>\n",
       "      <th>3</th>\n",
       "      <td>3</td>\n",
       "      <td>http://commons.wikimedia.org/wiki/Category:Twe...</td>\n",
       "    </tr>\n",
       "    <tr>\n",
       "      <th>4</th>\n",
       "      <td>4</td>\n",
       "      <td>http://commons.wikimedia.org/wiki/Category:San...</td>\n",
       "    </tr>\n",
       "  </tbody>\n",
       "</table>\n",
       "</div>"
      ],
      "text/plain": [
       "   landmark_id                                           category\n",
       "0            0  http://commons.wikimedia.org/wiki/Category:Hap...\n",
       "1            1  http://commons.wikimedia.org/wiki/Category:Lui...\n",
       "2            2  http://commons.wikimedia.org/wiki/Category:Gra...\n",
       "3            3  http://commons.wikimedia.org/wiki/Category:Twe...\n",
       "4            4  http://commons.wikimedia.org/wiki/Category:San..."
      ]
     },
     "metadata": {},
     "output_type": "display_data"
    }
   ],
   "source": [
    "# Display a description of the file\n",
    "display(train_label_to_category.head())"
   ]
  },
  {
   "cell_type": "code",
   "execution_count": 8,
   "metadata": {},
   "outputs": [],
   "source": [
    "# del train_label_to_category #delete dataframe to free memory"
   ]
  },
  {
   "cell_type": "markdown",
   "metadata": {},
   "source": [
    "### Exploring input file : train.csv"
   ]
  },
  {
   "cell_type": "markdown",
   "metadata": {},
   "source": [
    "[train.csv](https://s3.amazonaws.com/google-landmark/metadata/train.csv): CSV with id,url,landmark_id fields. `id` is a 16-character\n",
    "    string, `url` is a string, `landmark_id` is an integer.\n",
    " \n",
    " Contains url to download images from the web, along with their ids."
   ]
  },
  {
   "cell_type": "code",
   "execution_count": 9,
   "metadata": {},
   "outputs": [
    {
     "name": "stdout",
     "output_type": "stream",
     "text": [
      "File has 4132914 samples with 3 features each.\n"
     ]
    }
   ],
   "source": [
    "# Load file\n",
    "try:\n",
    "    train_data = pd.read_csv(os.path.join(input_csv_dir, \"train.csv\"))\n",
    "    print(\"File has {} samples with {} features each.\".format(*train_data.shape))\n",
    "except:\n",
    "    print(\"File could not be loaded. Is the dataset missing?\")"
   ]
  },
  {
   "cell_type": "code",
   "execution_count": 10,
   "metadata": {},
   "outputs": [
    {
     "data": {
      "text/html": [
       "<div>\n",
       "<style scoped>\n",
       "    .dataframe tbody tr th:only-of-type {\n",
       "        vertical-align: middle;\n",
       "    }\n",
       "\n",
       "    .dataframe tbody tr th {\n",
       "        vertical-align: top;\n",
       "    }\n",
       "\n",
       "    .dataframe thead th {\n",
       "        text-align: right;\n",
       "    }\n",
       "</style>\n",
       "<table border=\"1\" class=\"dataframe\">\n",
       "  <thead>\n",
       "    <tr style=\"text-align: right;\">\n",
       "      <th></th>\n",
       "      <th>id</th>\n",
       "      <th>url</th>\n",
       "      <th>landmark_id</th>\n",
       "    </tr>\n",
       "  </thead>\n",
       "  <tbody>\n",
       "    <tr>\n",
       "      <th>0</th>\n",
       "      <td>6e158a47eb2ca3f6</td>\n",
       "      <td>https://upload.wikimedia.org/wikipedia/commons...</td>\n",
       "      <td>142820</td>\n",
       "    </tr>\n",
       "    <tr>\n",
       "      <th>1</th>\n",
       "      <td>202cd79556f30760</td>\n",
       "      <td>http://upload.wikimedia.org/wikipedia/commons/...</td>\n",
       "      <td>104169</td>\n",
       "    </tr>\n",
       "    <tr>\n",
       "      <th>2</th>\n",
       "      <td>3ad87684c99c06e1</td>\n",
       "      <td>http://upload.wikimedia.org/wikipedia/commons/...</td>\n",
       "      <td>37914</td>\n",
       "    </tr>\n",
       "    <tr>\n",
       "      <th>3</th>\n",
       "      <td>e7f70e9c61e66af3</td>\n",
       "      <td>https://upload.wikimedia.org/wikipedia/commons...</td>\n",
       "      <td>102140</td>\n",
       "    </tr>\n",
       "    <tr>\n",
       "      <th>4</th>\n",
       "      <td>4072182eddd0100e</td>\n",
       "      <td>https://upload.wikimedia.org/wikipedia/commons...</td>\n",
       "      <td>2474</td>\n",
       "    </tr>\n",
       "  </tbody>\n",
       "</table>\n",
       "</div>"
      ],
      "text/plain": [
       "                 id                                                url  \\\n",
       "0  6e158a47eb2ca3f6  https://upload.wikimedia.org/wikipedia/commons...   \n",
       "1  202cd79556f30760  http://upload.wikimedia.org/wikipedia/commons/...   \n",
       "2  3ad87684c99c06e1  http://upload.wikimedia.org/wikipedia/commons/...   \n",
       "3  e7f70e9c61e66af3  https://upload.wikimedia.org/wikipedia/commons...   \n",
       "4  4072182eddd0100e  https://upload.wikimedia.org/wikipedia/commons...   \n",
       "\n",
       "   landmark_id  \n",
       "0       142820  \n",
       "1       104169  \n",
       "2        37914  \n",
       "3       102140  \n",
       "4         2474  "
      ]
     },
     "metadata": {},
     "output_type": "display_data"
    }
   ],
   "source": [
    "# Display a top rows of the file\n",
    "display(train_data.head())"
   ]
  },
  {
   "cell_type": "markdown",
   "metadata": {},
   "source": [
    "### Selecting Image Subset from Input File :"
   ]
  },
  {
   "cell_type": "markdown",
   "metadata": {},
   "source": [
    "#### Displaying the top Landmarks with largest number of image samples "
   ]
  },
  {
   "cell_type": "markdown",
   "metadata": {},
   "source": [
    "Here we do frequency count on `landmark_id` and display the top 60 results"
   ]
  },
  {
   "cell_type": "code",
   "execution_count": 11,
   "metadata": {},
   "outputs": [],
   "source": [
    "top_train_data = train_data['landmark_id'].value_counts().to_frame().nlargest(60, 'landmark_id')\n",
    "top_train_data.columns = ['images_count']"
   ]
  },
  {
   "cell_type": "code",
   "execution_count": 12,
   "metadata": {},
   "outputs": [
    {
     "data": {
      "text/html": [
       "<div>\n",
       "<style scoped>\n",
       "    .dataframe tbody tr th:only-of-type {\n",
       "        vertical-align: middle;\n",
       "    }\n",
       "\n",
       "    .dataframe tbody tr th {\n",
       "        vertical-align: top;\n",
       "    }\n",
       "\n",
       "    .dataframe thead th {\n",
       "        text-align: right;\n",
       "    }\n",
       "</style>\n",
       "<table border=\"1\" class=\"dataframe\">\n",
       "  <thead>\n",
       "    <tr style=\"text-align: right;\">\n",
       "      <th></th>\n",
       "      <th>images_count</th>\n",
       "    </tr>\n",
       "  </thead>\n",
       "  <tbody>\n",
       "    <tr>\n",
       "      <th>149980</th>\n",
       "      <td>1108</td>\n",
       "    </tr>\n",
       "    <tr>\n",
       "      <th>46500</th>\n",
       "      <td>1107</td>\n",
       "    </tr>\n",
       "    <tr>\n",
       "      <th>14915</th>\n",
       "      <td>1093</td>\n",
       "    </tr>\n",
       "    <tr>\n",
       "      <th>120734</th>\n",
       "      <td>1093</td>\n",
       "    </tr>\n",
       "    <tr>\n",
       "      <th>33992</th>\n",
       "      <td>1088</td>\n",
       "    </tr>\n",
       "    <tr>\n",
       "      <th>40088</th>\n",
       "      <td>1056</td>\n",
       "    </tr>\n",
       "    <tr>\n",
       "      <th>164773</th>\n",
       "      <td>1048</td>\n",
       "    </tr>\n",
       "    <tr>\n",
       "      <th>171683</th>\n",
       "      <td>1047</td>\n",
       "    </tr>\n",
       "    <tr>\n",
       "      <th>176018</th>\n",
       "      <td>1045</td>\n",
       "    </tr>\n",
       "    <tr>\n",
       "      <th>168098</th>\n",
       "      <td>1037</td>\n",
       "    </tr>\n",
       "    <tr>\n",
       "      <th>20120</th>\n",
       "      <td>1032</td>\n",
       "    </tr>\n",
       "    <tr>\n",
       "      <th>165900</th>\n",
       "      <td>1027</td>\n",
       "    </tr>\n",
       "    <tr>\n",
       "      <th>25093</th>\n",
       "      <td>1017</td>\n",
       "    </tr>\n",
       "    <tr>\n",
       "      <th>136093</th>\n",
       "      <td>1000</td>\n",
       "    </tr>\n",
       "    <tr>\n",
       "      <th>187779</th>\n",
       "      <td>986</td>\n",
       "    </tr>\n",
       "    <tr>\n",
       "      <th>9070</th>\n",
       "      <td>978</td>\n",
       "    </tr>\n",
       "    <tr>\n",
       "      <th>127516</th>\n",
       "      <td>976</td>\n",
       "    </tr>\n",
       "    <tr>\n",
       "      <th>56827</th>\n",
       "      <td>975</td>\n",
       "    </tr>\n",
       "    <tr>\n",
       "      <th>105337</th>\n",
       "      <td>968</td>\n",
       "    </tr>\n",
       "    <tr>\n",
       "      <th>147897</th>\n",
       "      <td>961</td>\n",
       "    </tr>\n",
       "    <tr>\n",
       "      <th>180759</th>\n",
       "      <td>947</td>\n",
       "    </tr>\n",
       "    <tr>\n",
       "      <th>165596</th>\n",
       "      <td>946</td>\n",
       "    </tr>\n",
       "  </tbody>\n",
       "</table>\n",
       "</div>"
      ],
      "text/plain": [
       "        images_count\n",
       "149980          1108\n",
       "46500           1107\n",
       "14915           1093\n",
       "120734          1093\n",
       "33992           1088\n",
       "40088           1056\n",
       "164773          1048\n",
       "171683          1047\n",
       "176018          1045\n",
       "168098          1037\n",
       "20120           1032\n",
       "165900          1027\n",
       "25093           1017\n",
       "136093          1000\n",
       "187779           986\n",
       "9070             978\n",
       "127516           976\n",
       "56827            975\n",
       "105337           968\n",
       "147897           961\n",
       "180759           947\n",
       "165596           946"
      ]
     },
     "metadata": {},
     "output_type": "display_data"
    }
   ],
   "source": [
    "display(top_train_data[33:55])"
   ]
  },
  {
   "cell_type": "markdown",
   "metadata": {},
   "source": [
    "#### Select 10 Labels with number of samples $\\approx$ 1000 :"
   ]
  },
  {
   "cell_type": "markdown",
   "metadata": {},
   "source": [
    "From observations with see that labels from 40th to 50th have around 1000 samples each"
   ]
  },
  {
   "cell_type": "code",
   "execution_count": 13,
   "metadata": {},
   "outputs": [
    {
     "data": {
      "text/html": [
       "<div>\n",
       "<style scoped>\n",
       "    .dataframe tbody tr th:only-of-type {\n",
       "        vertical-align: middle;\n",
       "    }\n",
       "\n",
       "    .dataframe tbody tr th {\n",
       "        vertical-align: top;\n",
       "    }\n",
       "\n",
       "    .dataframe thead th {\n",
       "        text-align: right;\n",
       "    }\n",
       "</style>\n",
       "<table border=\"1\" class=\"dataframe\">\n",
       "  <thead>\n",
       "    <tr style=\"text-align: right;\">\n",
       "      <th></th>\n",
       "      <th>landmark_id</th>\n",
       "      <th>category</th>\n",
       "      <th>images_count</th>\n",
       "    </tr>\n",
       "  </thead>\n",
       "  <tbody>\n",
       "    <tr>\n",
       "      <th>1</th>\n",
       "      <td>40088</td>\n",
       "      <td>Masada</td>\n",
       "      <td>1056</td>\n",
       "    </tr>\n",
       "    <tr>\n",
       "      <th>2</th>\n",
       "      <td>164773</td>\n",
       "      <td>Dead_Sea</td>\n",
       "      <td>1048</td>\n",
       "    </tr>\n",
       "    <tr>\n",
       "      <th>3</th>\n",
       "      <td>176018</td>\n",
       "      <td>Hayravank_monastery</td>\n",
       "      <td>1045</td>\n",
       "    </tr>\n",
       "    <tr>\n",
       "      <th>4</th>\n",
       "      <td>168098</td>\n",
       "      <td>Golden_Gate_Bridge</td>\n",
       "      <td>1037</td>\n",
       "    </tr>\n",
       "    <tr>\n",
       "      <th>5</th>\n",
       "      <td>165900</td>\n",
       "      <td>Mount_Arapiles</td>\n",
       "      <td>1027</td>\n",
       "    </tr>\n",
       "    <tr>\n",
       "      <th>6</th>\n",
       "      <td>25093</td>\n",
       "      <td>Matka_Canyon</td>\n",
       "      <td>1017</td>\n",
       "    </tr>\n",
       "    <tr>\n",
       "      <th>7</th>\n",
       "      <td>9070</td>\n",
       "      <td>Feroz_Shah_Kotla</td>\n",
       "      <td>978</td>\n",
       "    </tr>\n",
       "    <tr>\n",
       "      <th>8</th>\n",
       "      <td>127516</td>\n",
       "      <td>Burrator</td>\n",
       "      <td>976</td>\n",
       "    </tr>\n",
       "    <tr>\n",
       "      <th>9</th>\n",
       "      <td>56827</td>\n",
       "      <td>Kazan</td>\n",
       "      <td>975</td>\n",
       "    </tr>\n",
       "    <tr>\n",
       "      <th>10</th>\n",
       "      <td>147897</td>\n",
       "      <td>Kasteel_Amerongen</td>\n",
       "      <td>961</td>\n",
       "    </tr>\n",
       "  </tbody>\n",
       "</table>\n",
       "</div>"
      ],
      "text/plain": [
       "    landmark_id             category  images_count\n",
       "1         40088               Masada          1056\n",
       "2        164773             Dead_Sea          1048\n",
       "3        176018  Hayravank_monastery          1045\n",
       "4        168098   Golden_Gate_Bridge          1037\n",
       "5        165900       Mount_Arapiles          1027\n",
       "6         25093         Matka_Canyon          1017\n",
       "7          9070     Feroz_Shah_Kotla           978\n",
       "8        127516             Burrator           976\n",
       "9         56827                Kazan           975\n",
       "10       147897    Kasteel_Amerongen           961"
      ]
     },
     "metadata": {},
     "output_type": "display_data"
    }
   ],
   "source": [
    "#selected_labels_indices = top_train_data['landmark_id'][40:50].keys()\n",
    "selected_labels_indices = [40088, 164773, 176018, 168098, 165900, 25093, 9070, 127516, 56827, 147897]\n",
    "selected_labels_indices\n",
    "\n",
    "selected_labels_df = train_label_to_category[train_label_to_category['landmark_id'].isin(selected_labels_indices)]\n",
    "selected_labels_df = selected_labels_df.join(top_train_data, on='landmark_id', how='left').sort_values(by='images_count',  ascending=False)\n",
    "selected_labels_df.index = np.arange(1, selected_labels_df.shape[0] + 1)\n",
    "selected_labels_subset = selected_labels_df.replace({'http://commons.wikimedia.org/wiki/Category:':''}, regex=True)\n",
    "display(selected_labels_subset)"
   ]
  },
  {
   "cell_type": "markdown",
   "metadata": {},
   "source": [
    "#### Save Selected Labels to CSV"
   ]
  },
  {
   "cell_type": "code",
   "execution_count": 50,
   "metadata": {},
   "outputs": [],
   "source": [
    "selected_labels_subset.to_csv(path.join(stats_dir, \"selected_labels_subset.csv\")) #save selected labels subset to csv"
   ]
  },
  {
   "cell_type": "markdown",
   "metadata": {},
   "source": [
    "## Data Preprocessing"
   ]
  },
  {
   "cell_type": "markdown",
   "metadata": {},
   "source": [
    "### Extracting subset of training data :"
   ]
  },
  {
   "cell_type": "markdown",
   "metadata": {},
   "source": [
    "Here we extract subset of `train_data` that only contain the ten landmarks that are defined in `selected_labels_subset`"
   ]
  },
  {
   "cell_type": "code",
   "execution_count": 14,
   "metadata": {},
   "outputs": [],
   "source": [
    "train_data_subset = train_data[train_data['landmark_id'].isin(selected_labels_subset['landmark_id'])]"
   ]
  },
  {
   "cell_type": "code",
   "execution_count": 15,
   "metadata": {},
   "outputs": [
    {
     "data": {
      "text/html": [
       "<div>\n",
       "<style scoped>\n",
       "    .dataframe tbody tr th:only-of-type {\n",
       "        vertical-align: middle;\n",
       "    }\n",
       "\n",
       "    .dataframe tbody tr th {\n",
       "        vertical-align: top;\n",
       "    }\n",
       "\n",
       "    .dataframe thead th {\n",
       "        text-align: right;\n",
       "    }\n",
       "</style>\n",
       "<table border=\"1\" class=\"dataframe\">\n",
       "  <thead>\n",
       "    <tr style=\"text-align: right;\">\n",
       "      <th></th>\n",
       "      <th>id</th>\n",
       "      <th>url</th>\n",
       "      <th>landmark_id</th>\n",
       "    </tr>\n",
       "  </thead>\n",
       "  <tbody>\n",
       "    <tr>\n",
       "      <th>349</th>\n",
       "      <td>9c19ee11f0902178</td>\n",
       "      <td>https://upload.wikimedia.org/wikipedia/commons...</td>\n",
       "      <td>165900</td>\n",
       "    </tr>\n",
       "    <tr>\n",
       "      <th>922</th>\n",
       "      <td>37b2522f3895b2f9</td>\n",
       "      <td>https://upload.wikimedia.org/wikipedia/commons...</td>\n",
       "      <td>176018</td>\n",
       "    </tr>\n",
       "    <tr>\n",
       "      <th>1244</th>\n",
       "      <td>bba39914defa5ca0</td>\n",
       "      <td>https://upload.wikimedia.org/wikipedia/commons...</td>\n",
       "      <td>127516</td>\n",
       "    </tr>\n",
       "    <tr>\n",
       "      <th>2013</th>\n",
       "      <td>7a12b3cc85fb8410</td>\n",
       "      <td>https://upload.wikimedia.org/wikipedia/commons...</td>\n",
       "      <td>164773</td>\n",
       "    </tr>\n",
       "    <tr>\n",
       "      <th>2236</th>\n",
       "      <td>208406f06dd0b2fc</td>\n",
       "      <td>https://upload.wikimedia.org/wikipedia/commons...</td>\n",
       "      <td>164773</td>\n",
       "    </tr>\n",
       "    <tr>\n",
       "      <th>...</th>\n",
       "      <td>...</td>\n",
       "      <td>...</td>\n",
       "      <td>...</td>\n",
       "    </tr>\n",
       "    <tr>\n",
       "      <th>4131020</th>\n",
       "      <td>41821760967e8625</td>\n",
       "      <td>https://upload.wikimedia.org/wikipedia/commons...</td>\n",
       "      <td>165900</td>\n",
       "    </tr>\n",
       "    <tr>\n",
       "      <th>4131367</th>\n",
       "      <td>22023ea9d00371a0</td>\n",
       "      <td>https://upload.wikimedia.org/wikipedia/commons...</td>\n",
       "      <td>168098</td>\n",
       "    </tr>\n",
       "    <tr>\n",
       "      <th>4131585</th>\n",
       "      <td>f0e41092bce16658</td>\n",
       "      <td>https://upload.wikimedia.org/wikipedia/commons...</td>\n",
       "      <td>165900</td>\n",
       "    </tr>\n",
       "    <tr>\n",
       "      <th>4131864</th>\n",
       "      <td>fc17525a42d608fa</td>\n",
       "      <td>https://upload.wikimedia.org/wikipedia/commons...</td>\n",
       "      <td>56827</td>\n",
       "    </tr>\n",
       "    <tr>\n",
       "      <th>4132698</th>\n",
       "      <td>799cec839b656df3</td>\n",
       "      <td>http://upload.wikimedia.org/wikipedia/commons/...</td>\n",
       "      <td>25093</td>\n",
       "    </tr>\n",
       "  </tbody>\n",
       "</table>\n",
       "<p>10120 rows × 3 columns</p>\n",
       "</div>"
      ],
      "text/plain": [
       "                       id                                                url  \\\n",
       "349      9c19ee11f0902178  https://upload.wikimedia.org/wikipedia/commons...   \n",
       "922      37b2522f3895b2f9  https://upload.wikimedia.org/wikipedia/commons...   \n",
       "1244     bba39914defa5ca0  https://upload.wikimedia.org/wikipedia/commons...   \n",
       "2013     7a12b3cc85fb8410  https://upload.wikimedia.org/wikipedia/commons...   \n",
       "2236     208406f06dd0b2fc  https://upload.wikimedia.org/wikipedia/commons...   \n",
       "...                   ...                                                ...   \n",
       "4131020  41821760967e8625  https://upload.wikimedia.org/wikipedia/commons...   \n",
       "4131367  22023ea9d00371a0  https://upload.wikimedia.org/wikipedia/commons...   \n",
       "4131585  f0e41092bce16658  https://upload.wikimedia.org/wikipedia/commons...   \n",
       "4131864  fc17525a42d608fa  https://upload.wikimedia.org/wikipedia/commons...   \n",
       "4132698  799cec839b656df3  http://upload.wikimedia.org/wikipedia/commons/...   \n",
       "\n",
       "         landmark_id  \n",
       "349           165900  \n",
       "922           176018  \n",
       "1244          127516  \n",
       "2013          164773  \n",
       "2236          164773  \n",
       "...              ...  \n",
       "4131020       165900  \n",
       "4131367       168098  \n",
       "4131585       165900  \n",
       "4131864        56827  \n",
       "4132698        25093  \n",
       "\n",
       "[10120 rows x 3 columns]"
      ]
     },
     "execution_count": 15,
     "metadata": {},
     "output_type": "execute_result"
    }
   ],
   "source": [
    "train_data_subset"
   ]
  },
  {
   "cell_type": "markdown",
   "metadata": {},
   "source": [
    "Saving the subst training data to csv file :"
   ]
  },
  {
   "cell_type": "markdown",
   "metadata": {},
   "source": [
    "### Splitting Selected Image Subset into Train, Test and Validation Sets"
   ]
  },
  {
   "cell_type": "code",
   "execution_count": 25,
   "metadata": {},
   "outputs": [],
   "source": [
    "from sklearn.model_selection import train_test_split"
   ]
  },
  {
   "cell_type": "markdown",
   "metadata": {},
   "source": [
    "Splitting data into 70% training, 15% validation and 15% testing. The split is stratified :"
   ]
  },
  {
   "cell_type": "code",
   "execution_count": 17,
   "metadata": {},
   "outputs": [],
   "source": [
    "train, validation_test, _ , _ = train_test_split(train_data_subset, train_data_subset['landmark_id'], test_size=0.3, random_state=1, stratify=train_data_subset['landmark_id'])\n",
    "\n",
    "validation, test, _ , _ = train_test_split(validation_test, validation_test['landmark_id'], test_size=0.5, random_state=1, stratify=validation_test['landmark_id'])"
   ]
  },
  {
   "cell_type": "markdown",
   "metadata": {},
   "source": [
    "#### Frequency count of training, validation and test data"
   ]
  },
  {
   "cell_type": "code",
   "execution_count": 18,
   "metadata": {},
   "outputs": [
    {
     "data": {
      "text/html": [
       "<div>\n",
       "<style scoped>\n",
       "    .dataframe tbody tr th:only-of-type {\n",
       "        vertical-align: middle;\n",
       "    }\n",
       "\n",
       "    .dataframe tbody tr th {\n",
       "        vertical-align: top;\n",
       "    }\n",
       "\n",
       "    .dataframe thead th {\n",
       "        text-align: right;\n",
       "    }\n",
       "</style>\n",
       "<table border=\"1\" class=\"dataframe\">\n",
       "  <thead>\n",
       "    <tr style=\"text-align: right;\">\n",
       "      <th></th>\n",
       "      <th>id</th>\n",
       "      <th>url</th>\n",
       "      <th>landmark_id</th>\n",
       "    </tr>\n",
       "    <tr>\n",
       "      <th>landmark_id</th>\n",
       "      <th></th>\n",
       "      <th></th>\n",
       "      <th></th>\n",
       "    </tr>\n",
       "  </thead>\n",
       "  <tbody>\n",
       "    <tr>\n",
       "      <th>9070</th>\n",
       "      <td>685</td>\n",
       "      <td>685</td>\n",
       "      <td>1</td>\n",
       "    </tr>\n",
       "    <tr>\n",
       "      <th>25093</th>\n",
       "      <td>712</td>\n",
       "      <td>712</td>\n",
       "      <td>1</td>\n",
       "    </tr>\n",
       "    <tr>\n",
       "      <th>40088</th>\n",
       "      <td>739</td>\n",
       "      <td>739</td>\n",
       "      <td>1</td>\n",
       "    </tr>\n",
       "    <tr>\n",
       "      <th>56827</th>\n",
       "      <td>682</td>\n",
       "      <td>682</td>\n",
       "      <td>1</td>\n",
       "    </tr>\n",
       "    <tr>\n",
       "      <th>127516</th>\n",
       "      <td>683</td>\n",
       "      <td>683</td>\n",
       "      <td>1</td>\n",
       "    </tr>\n",
       "    <tr>\n",
       "      <th>147897</th>\n",
       "      <td>673</td>\n",
       "      <td>673</td>\n",
       "      <td>1</td>\n",
       "    </tr>\n",
       "    <tr>\n",
       "      <th>164773</th>\n",
       "      <td>734</td>\n",
       "      <td>734</td>\n",
       "      <td>1</td>\n",
       "    </tr>\n",
       "    <tr>\n",
       "      <th>165900</th>\n",
       "      <td>719</td>\n",
       "      <td>719</td>\n",
       "      <td>1</td>\n",
       "    </tr>\n",
       "    <tr>\n",
       "      <th>168098</th>\n",
       "      <td>726</td>\n",
       "      <td>726</td>\n",
       "      <td>1</td>\n",
       "    </tr>\n",
       "    <tr>\n",
       "      <th>176018</th>\n",
       "      <td>731</td>\n",
       "      <td>731</td>\n",
       "      <td>1</td>\n",
       "    </tr>\n",
       "  </tbody>\n",
       "</table>\n",
       "</div>"
      ],
      "text/plain": [
       "              id  url  landmark_id\n",
       "landmark_id                       \n",
       "9070         685  685            1\n",
       "25093        712  712            1\n",
       "40088        739  739            1\n",
       "56827        682  682            1\n",
       "127516       683  683            1\n",
       "147897       673  673            1\n",
       "164773       734  734            1\n",
       "165900       719  719            1\n",
       "168098       726  726            1\n",
       "176018       731  731            1"
      ]
     },
     "execution_count": 18,
     "metadata": {},
     "output_type": "execute_result"
    }
   ],
   "source": [
    "train.groupby('landmark_id').nunique()"
   ]
  },
  {
   "cell_type": "code",
   "execution_count": 19,
   "metadata": {},
   "outputs": [
    {
     "data": {
      "text/html": [
       "<div>\n",
       "<style scoped>\n",
       "    .dataframe tbody tr th:only-of-type {\n",
       "        vertical-align: middle;\n",
       "    }\n",
       "\n",
       "    .dataframe tbody tr th {\n",
       "        vertical-align: top;\n",
       "    }\n",
       "\n",
       "    .dataframe thead th {\n",
       "        text-align: right;\n",
       "    }\n",
       "</style>\n",
       "<table border=\"1\" class=\"dataframe\">\n",
       "  <thead>\n",
       "    <tr style=\"text-align: right;\">\n",
       "      <th></th>\n",
       "      <th>id</th>\n",
       "      <th>url</th>\n",
       "      <th>landmark_id</th>\n",
       "    </tr>\n",
       "    <tr>\n",
       "      <th>landmark_id</th>\n",
       "      <th></th>\n",
       "      <th></th>\n",
       "      <th></th>\n",
       "    </tr>\n",
       "  </thead>\n",
       "  <tbody>\n",
       "    <tr>\n",
       "      <th>9070</th>\n",
       "      <td>146</td>\n",
       "      <td>146</td>\n",
       "      <td>1</td>\n",
       "    </tr>\n",
       "    <tr>\n",
       "      <th>25093</th>\n",
       "      <td>153</td>\n",
       "      <td>153</td>\n",
       "      <td>1</td>\n",
       "    </tr>\n",
       "    <tr>\n",
       "      <th>40088</th>\n",
       "      <td>159</td>\n",
       "      <td>159</td>\n",
       "      <td>1</td>\n",
       "    </tr>\n",
       "    <tr>\n",
       "      <th>56827</th>\n",
       "      <td>146</td>\n",
       "      <td>146</td>\n",
       "      <td>1</td>\n",
       "    </tr>\n",
       "    <tr>\n",
       "      <th>127516</th>\n",
       "      <td>147</td>\n",
       "      <td>147</td>\n",
       "      <td>1</td>\n",
       "    </tr>\n",
       "    <tr>\n",
       "      <th>147897</th>\n",
       "      <td>144</td>\n",
       "      <td>144</td>\n",
       "      <td>1</td>\n",
       "    </tr>\n",
       "    <tr>\n",
       "      <th>164773</th>\n",
       "      <td>157</td>\n",
       "      <td>157</td>\n",
       "      <td>1</td>\n",
       "    </tr>\n",
       "    <tr>\n",
       "      <th>165900</th>\n",
       "      <td>154</td>\n",
       "      <td>154</td>\n",
       "      <td>1</td>\n",
       "    </tr>\n",
       "    <tr>\n",
       "      <th>168098</th>\n",
       "      <td>155</td>\n",
       "      <td>155</td>\n",
       "      <td>1</td>\n",
       "    </tr>\n",
       "    <tr>\n",
       "      <th>176018</th>\n",
       "      <td>157</td>\n",
       "      <td>157</td>\n",
       "      <td>1</td>\n",
       "    </tr>\n",
       "  </tbody>\n",
       "</table>\n",
       "</div>"
      ],
      "text/plain": [
       "              id  url  landmark_id\n",
       "landmark_id                       \n",
       "9070         146  146            1\n",
       "25093        153  153            1\n",
       "40088        159  159            1\n",
       "56827        146  146            1\n",
       "127516       147  147            1\n",
       "147897       144  144            1\n",
       "164773       157  157            1\n",
       "165900       154  154            1\n",
       "168098       155  155            1\n",
       "176018       157  157            1"
      ]
     },
     "execution_count": 19,
     "metadata": {},
     "output_type": "execute_result"
    }
   ],
   "source": [
    "validation.groupby('landmark_id').nunique()"
   ]
  },
  {
   "cell_type": "code",
   "execution_count": 20,
   "metadata": {},
   "outputs": [
    {
     "data": {
      "text/html": [
       "<div>\n",
       "<style scoped>\n",
       "    .dataframe tbody tr th:only-of-type {\n",
       "        vertical-align: middle;\n",
       "    }\n",
       "\n",
       "    .dataframe tbody tr th {\n",
       "        vertical-align: top;\n",
       "    }\n",
       "\n",
       "    .dataframe thead th {\n",
       "        text-align: right;\n",
       "    }\n",
       "</style>\n",
       "<table border=\"1\" class=\"dataframe\">\n",
       "  <thead>\n",
       "    <tr style=\"text-align: right;\">\n",
       "      <th></th>\n",
       "      <th>id</th>\n",
       "      <th>url</th>\n",
       "      <th>landmark_id</th>\n",
       "    </tr>\n",
       "    <tr>\n",
       "      <th>landmark_id</th>\n",
       "      <th></th>\n",
       "      <th></th>\n",
       "      <th></th>\n",
       "    </tr>\n",
       "  </thead>\n",
       "  <tbody>\n",
       "    <tr>\n",
       "      <th>9070</th>\n",
       "      <td>147</td>\n",
       "      <td>147</td>\n",
       "      <td>1</td>\n",
       "    </tr>\n",
       "    <tr>\n",
       "      <th>25093</th>\n",
       "      <td>152</td>\n",
       "      <td>152</td>\n",
       "      <td>1</td>\n",
       "    </tr>\n",
       "    <tr>\n",
       "      <th>40088</th>\n",
       "      <td>158</td>\n",
       "      <td>158</td>\n",
       "      <td>1</td>\n",
       "    </tr>\n",
       "    <tr>\n",
       "      <th>56827</th>\n",
       "      <td>147</td>\n",
       "      <td>147</td>\n",
       "      <td>1</td>\n",
       "    </tr>\n",
       "    <tr>\n",
       "      <th>127516</th>\n",
       "      <td>146</td>\n",
       "      <td>146</td>\n",
       "      <td>1</td>\n",
       "    </tr>\n",
       "    <tr>\n",
       "      <th>147897</th>\n",
       "      <td>144</td>\n",
       "      <td>144</td>\n",
       "      <td>1</td>\n",
       "    </tr>\n",
       "    <tr>\n",
       "      <th>164773</th>\n",
       "      <td>157</td>\n",
       "      <td>157</td>\n",
       "      <td>1</td>\n",
       "    </tr>\n",
       "    <tr>\n",
       "      <th>165900</th>\n",
       "      <td>154</td>\n",
       "      <td>154</td>\n",
       "      <td>1</td>\n",
       "    </tr>\n",
       "    <tr>\n",
       "      <th>168098</th>\n",
       "      <td>156</td>\n",
       "      <td>156</td>\n",
       "      <td>1</td>\n",
       "    </tr>\n",
       "    <tr>\n",
       "      <th>176018</th>\n",
       "      <td>157</td>\n",
       "      <td>157</td>\n",
       "      <td>1</td>\n",
       "    </tr>\n",
       "  </tbody>\n",
       "</table>\n",
       "</div>"
      ],
      "text/plain": [
       "              id  url  landmark_id\n",
       "landmark_id                       \n",
       "9070         147  147            1\n",
       "25093        152  152            1\n",
       "40088        158  158            1\n",
       "56827        147  147            1\n",
       "127516       146  146            1\n",
       "147897       144  144            1\n",
       "164773       157  157            1\n",
       "165900       154  154            1\n",
       "168098       156  156            1\n",
       "176018       157  157            1"
      ]
     },
     "execution_count": 20,
     "metadata": {},
     "output_type": "execute_result"
    }
   ],
   "source": [
    "test.groupby('landmark_id').nunique()"
   ]
  },
  {
   "cell_type": "markdown",
   "metadata": {},
   "source": [
    "### `landmark_id` Lookup and Construction of Download Paths"
   ]
  },
  {
   "cell_type": "code",
   "execution_count": 21,
   "metadata": {},
   "outputs": [
    {
     "data": {
      "text/html": [
       "<div>\n",
       "<style scoped>\n",
       "    .dataframe tbody tr th:only-of-type {\n",
       "        vertical-align: middle;\n",
       "    }\n",
       "\n",
       "    .dataframe tbody tr th {\n",
       "        vertical-align: top;\n",
       "    }\n",
       "\n",
       "    .dataframe thead th {\n",
       "        text-align: right;\n",
       "    }\n",
       "</style>\n",
       "<table border=\"1\" class=\"dataframe\">\n",
       "  <thead>\n",
       "    <tr style=\"text-align: right;\">\n",
       "      <th></th>\n",
       "      <th>id</th>\n",
       "      <th>url</th>\n",
       "      <th>landmark_id</th>\n",
       "      <th>category</th>\n",
       "      <th>path</th>\n",
       "    </tr>\n",
       "  </thead>\n",
       "  <tbody>\n",
       "    <tr>\n",
       "      <th>0</th>\n",
       "      <td>e8e3e507493b837e</td>\n",
       "      <td>https://upload.wikimedia.org/wikipedia/commons...</td>\n",
       "      <td>40088</td>\n",
       "      <td>Masada</td>\n",
       "      <td>../data/train/Masada</td>\n",
       "    </tr>\n",
       "    <tr>\n",
       "      <th>1</th>\n",
       "      <td>2c642f3336735f92</td>\n",
       "      <td>https://upload.wikimedia.org/wikipedia/commons...</td>\n",
       "      <td>40088</td>\n",
       "      <td>Masada</td>\n",
       "      <td>../data/train/Masada</td>\n",
       "    </tr>\n",
       "    <tr>\n",
       "      <th>2</th>\n",
       "      <td>2fc7b54c17fee6c8</td>\n",
       "      <td>https://upload.wikimedia.org/wikipedia/commons...</td>\n",
       "      <td>40088</td>\n",
       "      <td>Masada</td>\n",
       "      <td>../data/train/Masada</td>\n",
       "    </tr>\n",
       "    <tr>\n",
       "      <th>3</th>\n",
       "      <td>c219e4813fd16ed7</td>\n",
       "      <td>https://upload.wikimedia.org/wikipedia/commons...</td>\n",
       "      <td>40088</td>\n",
       "      <td>Masada</td>\n",
       "      <td>../data/train/Masada</td>\n",
       "    </tr>\n",
       "    <tr>\n",
       "      <th>4</th>\n",
       "      <td>2c3cea363ee7cd66</td>\n",
       "      <td>https://upload.wikimedia.org/wikipedia/commons...</td>\n",
       "      <td>40088</td>\n",
       "      <td>Masada</td>\n",
       "      <td>../data/train/Masada</td>\n",
       "    </tr>\n",
       "    <tr>\n",
       "      <th>...</th>\n",
       "      <td>...</td>\n",
       "      <td>...</td>\n",
       "      <td>...</td>\n",
       "      <td>...</td>\n",
       "      <td>...</td>\n",
       "    </tr>\n",
       "    <tr>\n",
       "      <th>7079</th>\n",
       "      <td>f427e30b38a778b7</td>\n",
       "      <td>https://upload.wikimedia.org/wikipedia/commons...</td>\n",
       "      <td>164773</td>\n",
       "      <td>Dead_Sea</td>\n",
       "      <td>../data/train/Dead_Sea</td>\n",
       "    </tr>\n",
       "    <tr>\n",
       "      <th>7080</th>\n",
       "      <td>99a65e07d6a1ec83</td>\n",
       "      <td>https://upload.wikimedia.org/wikipedia/commons...</td>\n",
       "      <td>164773</td>\n",
       "      <td>Dead_Sea</td>\n",
       "      <td>../data/train/Dead_Sea</td>\n",
       "    </tr>\n",
       "    <tr>\n",
       "      <th>7081</th>\n",
       "      <td>5066d07323d5264d</td>\n",
       "      <td>https://upload.wikimedia.org/wikipedia/commons...</td>\n",
       "      <td>164773</td>\n",
       "      <td>Dead_Sea</td>\n",
       "      <td>../data/train/Dead_Sea</td>\n",
       "    </tr>\n",
       "    <tr>\n",
       "      <th>7082</th>\n",
       "      <td>a81dfde083ce4602</td>\n",
       "      <td>https://upload.wikimedia.org/wikipedia/commons...</td>\n",
       "      <td>164773</td>\n",
       "      <td>Dead_Sea</td>\n",
       "      <td>../data/train/Dead_Sea</td>\n",
       "    </tr>\n",
       "    <tr>\n",
       "      <th>7083</th>\n",
       "      <td>65a429bb4ccf15fa</td>\n",
       "      <td>https://upload.wikimedia.org/wikipedia/commons...</td>\n",
       "      <td>164773</td>\n",
       "      <td>Dead_Sea</td>\n",
       "      <td>../data/train/Dead_Sea</td>\n",
       "    </tr>\n",
       "  </tbody>\n",
       "</table>\n",
       "<p>7084 rows × 5 columns</p>\n",
       "</div>"
      ],
      "text/plain": [
       "                    id                                                url  \\\n",
       "0     e8e3e507493b837e  https://upload.wikimedia.org/wikipedia/commons...   \n",
       "1     2c642f3336735f92  https://upload.wikimedia.org/wikipedia/commons...   \n",
       "2     2fc7b54c17fee6c8  https://upload.wikimedia.org/wikipedia/commons...   \n",
       "3     c219e4813fd16ed7  https://upload.wikimedia.org/wikipedia/commons...   \n",
       "4     2c3cea363ee7cd66  https://upload.wikimedia.org/wikipedia/commons...   \n",
       "...                ...                                                ...   \n",
       "7079  f427e30b38a778b7  https://upload.wikimedia.org/wikipedia/commons...   \n",
       "7080  99a65e07d6a1ec83  https://upload.wikimedia.org/wikipedia/commons...   \n",
       "7081  5066d07323d5264d  https://upload.wikimedia.org/wikipedia/commons...   \n",
       "7082  a81dfde083ce4602  https://upload.wikimedia.org/wikipedia/commons...   \n",
       "7083  65a429bb4ccf15fa  https://upload.wikimedia.org/wikipedia/commons...   \n",
       "\n",
       "      landmark_id  category                    path  \n",
       "0           40088    Masada    ../data/train/Masada  \n",
       "1           40088    Masada    ../data/train/Masada  \n",
       "2           40088    Masada    ../data/train/Masada  \n",
       "3           40088    Masada    ../data/train/Masada  \n",
       "4           40088    Masada    ../data/train/Masada  \n",
       "...           ...       ...                     ...  \n",
       "7079       164773  Dead_Sea  ../data/train/Dead_Sea  \n",
       "7080       164773  Dead_Sea  ../data/train/Dead_Sea  \n",
       "7081       164773  Dead_Sea  ../data/train/Dead_Sea  \n",
       "7082       164773  Dead_Sea  ../data/train/Dead_Sea  \n",
       "7083       164773  Dead_Sea  ../data/train/Dead_Sea  \n",
       "\n",
       "[7084 rows x 5 columns]"
      ]
     },
     "execution_count": 21,
     "metadata": {},
     "output_type": "execute_result"
    }
   ],
   "source": [
    "train = train.merge(selected_labels_subset, left_on='landmark_id', right_on='landmark_id')\n",
    "train['path'] = train_dir + \"/\" + train['category'].astype(str)\n",
    "train"
   ]
  },
  {
   "cell_type": "code",
   "execution_count": 22,
   "metadata": {},
   "outputs": [
    {
     "data": {
      "text/html": [
       "<div>\n",
       "<style scoped>\n",
       "    .dataframe tbody tr th:only-of-type {\n",
       "        vertical-align: middle;\n",
       "    }\n",
       "\n",
       "    .dataframe tbody tr th {\n",
       "        vertical-align: top;\n",
       "    }\n",
       "\n",
       "    .dataframe thead th {\n",
       "        text-align: right;\n",
       "    }\n",
       "</style>\n",
       "<table border=\"1\" class=\"dataframe\">\n",
       "  <thead>\n",
       "    <tr style=\"text-align: right;\">\n",
       "      <th></th>\n",
       "      <th>id</th>\n",
       "      <th>url</th>\n",
       "      <th>landmark_id</th>\n",
       "      <th>category</th>\n",
       "      <th>path</th>\n",
       "    </tr>\n",
       "  </thead>\n",
       "  <tbody>\n",
       "    <tr>\n",
       "      <th>0</th>\n",
       "      <td>e4a769b80565d595</td>\n",
       "      <td>https://upload.wikimedia.org/wikipedia/commons...</td>\n",
       "      <td>25093</td>\n",
       "      <td>Matka_Canyon</td>\n",
       "      <td>../data/validation/Matka_Canyon</td>\n",
       "    </tr>\n",
       "    <tr>\n",
       "      <th>1</th>\n",
       "      <td>c1e879406e4c0c96</td>\n",
       "      <td>http://upload.wikimedia.org/wikipedia/commons/...</td>\n",
       "      <td>25093</td>\n",
       "      <td>Matka_Canyon</td>\n",
       "      <td>../data/validation/Matka_Canyon</td>\n",
       "    </tr>\n",
       "    <tr>\n",
       "      <th>2</th>\n",
       "      <td>dc678fe7b579924f</td>\n",
       "      <td>http://upload.wikimedia.org/wikipedia/commons/...</td>\n",
       "      <td>25093</td>\n",
       "      <td>Matka_Canyon</td>\n",
       "      <td>../data/validation/Matka_Canyon</td>\n",
       "    </tr>\n",
       "    <tr>\n",
       "      <th>3</th>\n",
       "      <td>814be91435675ef9</td>\n",
       "      <td>http://upload.wikimedia.org/wikipedia/commons/...</td>\n",
       "      <td>25093</td>\n",
       "      <td>Matka_Canyon</td>\n",
       "      <td>../data/validation/Matka_Canyon</td>\n",
       "    </tr>\n",
       "    <tr>\n",
       "      <th>4</th>\n",
       "      <td>48fc1c67c46a5691</td>\n",
       "      <td>http://upload.wikimedia.org/wikipedia/commons/...</td>\n",
       "      <td>25093</td>\n",
       "      <td>Matka_Canyon</td>\n",
       "      <td>../data/validation/Matka_Canyon</td>\n",
       "    </tr>\n",
       "    <tr>\n",
       "      <th>...</th>\n",
       "      <td>...</td>\n",
       "      <td>...</td>\n",
       "      <td>...</td>\n",
       "      <td>...</td>\n",
       "      <td>...</td>\n",
       "    </tr>\n",
       "    <tr>\n",
       "      <th>1513</th>\n",
       "      <td>b06a1a6902900046</td>\n",
       "      <td>https://upload.wikimedia.org/wikipedia/commons...</td>\n",
       "      <td>56827</td>\n",
       "      <td>Kazan</td>\n",
       "      <td>../data/validation/Kazan</td>\n",
       "    </tr>\n",
       "    <tr>\n",
       "      <th>1514</th>\n",
       "      <td>449c56391e0e9624</td>\n",
       "      <td>https://upload.wikimedia.org/wikipedia/commons...</td>\n",
       "      <td>56827</td>\n",
       "      <td>Kazan</td>\n",
       "      <td>../data/validation/Kazan</td>\n",
       "    </tr>\n",
       "    <tr>\n",
       "      <th>1515</th>\n",
       "      <td>0d858e81ff36a2d0</td>\n",
       "      <td>https://upload.wikimedia.org/wikipedia/commons...</td>\n",
       "      <td>56827</td>\n",
       "      <td>Kazan</td>\n",
       "      <td>../data/validation/Kazan</td>\n",
       "    </tr>\n",
       "    <tr>\n",
       "      <th>1516</th>\n",
       "      <td>0c297ae3d645185a</td>\n",
       "      <td>https://upload.wikimedia.org/wikipedia/commons...</td>\n",
       "      <td>56827</td>\n",
       "      <td>Kazan</td>\n",
       "      <td>../data/validation/Kazan</td>\n",
       "    </tr>\n",
       "    <tr>\n",
       "      <th>1517</th>\n",
       "      <td>c46622f0dd832bbd</td>\n",
       "      <td>https://upload.wikimedia.org/wikipedia/commons...</td>\n",
       "      <td>56827</td>\n",
       "      <td>Kazan</td>\n",
       "      <td>../data/validation/Kazan</td>\n",
       "    </tr>\n",
       "  </tbody>\n",
       "</table>\n",
       "<p>1518 rows × 5 columns</p>\n",
       "</div>"
      ],
      "text/plain": [
       "                    id                                                url  \\\n",
       "0     e4a769b80565d595  https://upload.wikimedia.org/wikipedia/commons...   \n",
       "1     c1e879406e4c0c96  http://upload.wikimedia.org/wikipedia/commons/...   \n",
       "2     dc678fe7b579924f  http://upload.wikimedia.org/wikipedia/commons/...   \n",
       "3     814be91435675ef9  http://upload.wikimedia.org/wikipedia/commons/...   \n",
       "4     48fc1c67c46a5691  http://upload.wikimedia.org/wikipedia/commons/...   \n",
       "...                ...                                                ...   \n",
       "1513  b06a1a6902900046  https://upload.wikimedia.org/wikipedia/commons...   \n",
       "1514  449c56391e0e9624  https://upload.wikimedia.org/wikipedia/commons...   \n",
       "1515  0d858e81ff36a2d0  https://upload.wikimedia.org/wikipedia/commons...   \n",
       "1516  0c297ae3d645185a  https://upload.wikimedia.org/wikipedia/commons...   \n",
       "1517  c46622f0dd832bbd  https://upload.wikimedia.org/wikipedia/commons...   \n",
       "\n",
       "      landmark_id      category                             path  \n",
       "0           25093  Matka_Canyon  ../data/validation/Matka_Canyon  \n",
       "1           25093  Matka_Canyon  ../data/validation/Matka_Canyon  \n",
       "2           25093  Matka_Canyon  ../data/validation/Matka_Canyon  \n",
       "3           25093  Matka_Canyon  ../data/validation/Matka_Canyon  \n",
       "4           25093  Matka_Canyon  ../data/validation/Matka_Canyon  \n",
       "...           ...           ...                              ...  \n",
       "1513        56827         Kazan         ../data/validation/Kazan  \n",
       "1514        56827         Kazan         ../data/validation/Kazan  \n",
       "1515        56827         Kazan         ../data/validation/Kazan  \n",
       "1516        56827         Kazan         ../data/validation/Kazan  \n",
       "1517        56827         Kazan         ../data/validation/Kazan  \n",
       "\n",
       "[1518 rows x 5 columns]"
      ]
     },
     "execution_count": 22,
     "metadata": {},
     "output_type": "execute_result"
    }
   ],
   "source": [
    "validation = validation.merge(selected_labels_subset, left_on='landmark_id', right_on='landmark_id')\n",
    "validation['path'] = validation_dir + \"/\" + validation['category'].astype(str)\n",
    "validation"
   ]
  },
  {
   "cell_type": "code",
   "execution_count": 23,
   "metadata": {},
   "outputs": [
    {
     "data": {
      "text/html": [
       "<div>\n",
       "<style scoped>\n",
       "    .dataframe tbody tr th:only-of-type {\n",
       "        vertical-align: middle;\n",
       "    }\n",
       "\n",
       "    .dataframe tbody tr th {\n",
       "        vertical-align: top;\n",
       "    }\n",
       "\n",
       "    .dataframe thead th {\n",
       "        text-align: right;\n",
       "    }\n",
       "</style>\n",
       "<table border=\"1\" class=\"dataframe\">\n",
       "  <thead>\n",
       "    <tr style=\"text-align: right;\">\n",
       "      <th></th>\n",
       "      <th>id</th>\n",
       "      <th>url</th>\n",
       "      <th>landmark_id</th>\n",
       "      <th>category</th>\n",
       "      <th>path</th>\n",
       "    </tr>\n",
       "  </thead>\n",
       "  <tbody>\n",
       "    <tr>\n",
       "      <th>0</th>\n",
       "      <td>2012261ca8b015be</td>\n",
       "      <td>https://upload.wikimedia.org/wikipedia/commons...</td>\n",
       "      <td>176018</td>\n",
       "      <td>Hayravank_monastery</td>\n",
       "      <td>../data/test/Hayravank_monastery</td>\n",
       "    </tr>\n",
       "    <tr>\n",
       "      <th>1</th>\n",
       "      <td>a79a31c20635877e</td>\n",
       "      <td>https://upload.wikimedia.org/wikipedia/commons...</td>\n",
       "      <td>176018</td>\n",
       "      <td>Hayravank_monastery</td>\n",
       "      <td>../data/test/Hayravank_monastery</td>\n",
       "    </tr>\n",
       "    <tr>\n",
       "      <th>2</th>\n",
       "      <td>8538767d1668a0a8</td>\n",
       "      <td>https://upload.wikimedia.org/wikipedia/commons...</td>\n",
       "      <td>176018</td>\n",
       "      <td>Hayravank_monastery</td>\n",
       "      <td>../data/test/Hayravank_monastery</td>\n",
       "    </tr>\n",
       "    <tr>\n",
       "      <th>3</th>\n",
       "      <td>00a68f850d7b4d4b</td>\n",
       "      <td>https://upload.wikimedia.org/wikipedia/commons...</td>\n",
       "      <td>176018</td>\n",
       "      <td>Hayravank_monastery</td>\n",
       "      <td>../data/test/Hayravank_monastery</td>\n",
       "    </tr>\n",
       "    <tr>\n",
       "      <th>4</th>\n",
       "      <td>d710d27f36e5b67c</td>\n",
       "      <td>https://upload.wikimedia.org/wikipedia/commons...</td>\n",
       "      <td>176018</td>\n",
       "      <td>Hayravank_monastery</td>\n",
       "      <td>../data/test/Hayravank_monastery</td>\n",
       "    </tr>\n",
       "    <tr>\n",
       "      <th>...</th>\n",
       "      <td>...</td>\n",
       "      <td>...</td>\n",
       "      <td>...</td>\n",
       "      <td>...</td>\n",
       "      <td>...</td>\n",
       "    </tr>\n",
       "    <tr>\n",
       "      <th>1513</th>\n",
       "      <td>e8b8ae6551193999</td>\n",
       "      <td>https://upload.wikimedia.org/wikipedia/commons...</td>\n",
       "      <td>147897</td>\n",
       "      <td>Kasteel_Amerongen</td>\n",
       "      <td>../data/test/Kasteel_Amerongen</td>\n",
       "    </tr>\n",
       "    <tr>\n",
       "      <th>1514</th>\n",
       "      <td>b8244b4e3ab285b2</td>\n",
       "      <td>https://upload.wikimedia.org/wikipedia/commons...</td>\n",
       "      <td>147897</td>\n",
       "      <td>Kasteel_Amerongen</td>\n",
       "      <td>../data/test/Kasteel_Amerongen</td>\n",
       "    </tr>\n",
       "    <tr>\n",
       "      <th>1515</th>\n",
       "      <td>ddd4dafa74179605</td>\n",
       "      <td>https://upload.wikimedia.org/wikipedia/commons...</td>\n",
       "      <td>147897</td>\n",
       "      <td>Kasteel_Amerongen</td>\n",
       "      <td>../data/test/Kasteel_Amerongen</td>\n",
       "    </tr>\n",
       "    <tr>\n",
       "      <th>1516</th>\n",
       "      <td>a3d96e3ef3d331dc</td>\n",
       "      <td>http://upload.wikimedia.org/wikipedia/commons/...</td>\n",
       "      <td>147897</td>\n",
       "      <td>Kasteel_Amerongen</td>\n",
       "      <td>../data/test/Kasteel_Amerongen</td>\n",
       "    </tr>\n",
       "    <tr>\n",
       "      <th>1517</th>\n",
       "      <td>d09b1512d4245019</td>\n",
       "      <td>http://upload.wikimedia.org/wikipedia/commons/...</td>\n",
       "      <td>147897</td>\n",
       "      <td>Kasteel_Amerongen</td>\n",
       "      <td>../data/test/Kasteel_Amerongen</td>\n",
       "    </tr>\n",
       "  </tbody>\n",
       "</table>\n",
       "<p>1518 rows × 5 columns</p>\n",
       "</div>"
      ],
      "text/plain": [
       "                    id                                                url  \\\n",
       "0     2012261ca8b015be  https://upload.wikimedia.org/wikipedia/commons...   \n",
       "1     a79a31c20635877e  https://upload.wikimedia.org/wikipedia/commons...   \n",
       "2     8538767d1668a0a8  https://upload.wikimedia.org/wikipedia/commons...   \n",
       "3     00a68f850d7b4d4b  https://upload.wikimedia.org/wikipedia/commons...   \n",
       "4     d710d27f36e5b67c  https://upload.wikimedia.org/wikipedia/commons...   \n",
       "...                ...                                                ...   \n",
       "1513  e8b8ae6551193999  https://upload.wikimedia.org/wikipedia/commons...   \n",
       "1514  b8244b4e3ab285b2  https://upload.wikimedia.org/wikipedia/commons...   \n",
       "1515  ddd4dafa74179605  https://upload.wikimedia.org/wikipedia/commons...   \n",
       "1516  a3d96e3ef3d331dc  http://upload.wikimedia.org/wikipedia/commons/...   \n",
       "1517  d09b1512d4245019  http://upload.wikimedia.org/wikipedia/commons/...   \n",
       "\n",
       "      landmark_id             category                              path  \n",
       "0          176018  Hayravank_monastery  ../data/test/Hayravank_monastery  \n",
       "1          176018  Hayravank_monastery  ../data/test/Hayravank_monastery  \n",
       "2          176018  Hayravank_monastery  ../data/test/Hayravank_monastery  \n",
       "3          176018  Hayravank_monastery  ../data/test/Hayravank_monastery  \n",
       "4          176018  Hayravank_monastery  ../data/test/Hayravank_monastery  \n",
       "...           ...                  ...                               ...  \n",
       "1513       147897    Kasteel_Amerongen    ../data/test/Kasteel_Amerongen  \n",
       "1514       147897    Kasteel_Amerongen    ../data/test/Kasteel_Amerongen  \n",
       "1515       147897    Kasteel_Amerongen    ../data/test/Kasteel_Amerongen  \n",
       "1516       147897    Kasteel_Amerongen    ../data/test/Kasteel_Amerongen  \n",
       "1517       147897    Kasteel_Amerongen    ../data/test/Kasteel_Amerongen  \n",
       "\n",
       "[1518 rows x 5 columns]"
      ]
     },
     "execution_count": 23,
     "metadata": {},
     "output_type": "execute_result"
    }
   ],
   "source": [
    "test = test.merge(selected_labels_subset, left_on='landmark_id', right_on='landmark_id')\n",
    "test['path'] = test_dir + \"/\" + test['category'].astype(str)\n",
    "test"
   ]
  },
  {
   "cell_type": "markdown",
   "metadata": {},
   "source": [
    "### Saving Training, Validation and Test Image data to csv files"
   ]
  },
  {
   "cell_type": "code",
   "execution_count": 24,
   "metadata": {},
   "outputs": [],
   "source": [
    "train.to_csv(os.path.join(data_dir, \"index_train.csv\"), index=False) #save training data subset to csv"
   ]
  },
  {
   "cell_type": "code",
   "execution_count": 25,
   "metadata": {},
   "outputs": [],
   "source": [
    "test.to_csv(os.path.join(data_dir, \"index_test.csv\"), index=False) #save training data subset to csv"
   ]
  },
  {
   "cell_type": "code",
   "execution_count": 26,
   "metadata": {},
   "outputs": [],
   "source": [
    "validation.to_csv(os.path.join(data_dir, \"index_validation.csv\"), index=False) #save training data subset to csv"
   ]
  },
  {
   "cell_type": "markdown",
   "metadata": {},
   "source": [
    "Deleting input `train_data` dataframe to free memory"
   ]
  },
  {
   "cell_type": "code",
   "execution_count": 27,
   "metadata": {},
   "outputs": [],
   "source": [
    "# del train_data #delete train dataframe to free memory"
   ]
  },
  {
   "cell_type": "markdown",
   "metadata": {},
   "source": [
    "### Downloading Images"
   ]
  },
  {
   "cell_type": "markdown",
   "metadata": {},
   "source": [
    "Here we download images with the help of `image_downloader.py`"
   ]
  },
  {
   "cell_type": "markdown",
   "metadata": {},
   "source": [
    "#### load image-downloader.py"
   ]
  },
  {
   "cell_type": "code",
   "execution_count": 57,
   "metadata": {},
   "outputs": [
    {
     "name": "stdout",
     "output_type": "stream",
     "text": [
      "The autoreload extension is already loaded. To reload it, use:\n",
      "  %reload_ext autoreload\n"
     ]
    }
   ],
   "source": [
    "%load_ext autoreload\n",
    "%autoreload 2\n",
    "\n",
    "from image_downloader import * #import custom script to download images\n",
    "from IPython.display import clear_output"
   ]
  },
  {
   "cell_type": "markdown",
   "metadata": {},
   "source": [
    "#### Create Subdirectory tree for landmarks training, validation and test images :"
   ]
  },
  {
   "cell_type": "code",
   "execution_count": null,
   "metadata": {},
   "outputs": [],
   "source": [
    "os.mkdir(train_dir)\n",
    "os.mkdir(validation_dir)\n",
    "os.mkdir(test_dir)\n",
    "\n",
    "for landmark_name in selected_labels_subset['category']:\n",
    "    os.mkdir(os.path.join(train_dir,landmark_name))\n",
    "    os.mkdir(os.path.join(validation_dir,landmark_name))\n",
    "    os.mkdir(os.path.join(test_dir,landmark_name))"
   ]
  },
  {
   "cell_type": "markdown",
   "metadata": {},
   "source": [
    "#### Defining a download helper function"
   ]
  },
  {
   "cell_type": "code",
   "execution_count": null,
   "metadata": {},
   "outputs": [],
   "source": [
    "# Serial Downloader function\n",
    "\n",
    "#def download_images(dataset):\n",
    "#    i = 0\n",
    "#    total_sample_count = dataset.shape[0]\n",
    "#    for image_data in dataset[['id', 'url', 'path']].values.tolist():\n",
    "#        i+=1\n",
    "#        print(\"image {} of {}\".format(i, total_sample_count))\n",
    "#        RunDownloadImage(image_data)\n",
    "#        if i % 10 == 0 :\n",
    "#            clear_output()"
   ]
  },
  {
   "cell_type": "code",
   "execution_count": 58,
   "metadata": {},
   "outputs": [],
   "source": [
    "def download_images(dataset):\n",
    "    image_data = dataset[['id', 'url', 'path']].values.tolist()\n",
    "    RunDownloadImage(image_data)"
   ]
  },
  {
   "cell_type": "markdown",
   "metadata": {},
   "source": [
    "#### Downloading training images"
   ]
  },
  {
   "cell_type": "code",
   "execution_count": 60,
   "metadata": {},
   "outputs": [
    {
     "name": "stdout",
     "output_type": "stream",
     "text": [
      "../data/train/Dead_Sea/d9431d5ed4f2f1d2.jpg\n"
     ]
    }
   ],
   "source": [
    "download_images(train)"
   ]
  },
  {
   "cell_type": "markdown",
   "metadata": {},
   "source": [
    "#### Downloading validation images"
   ]
  },
  {
   "cell_type": "code",
   "execution_count": 61,
   "metadata": {},
   "outputs": [
    {
     "name": "stdout",
     "output_type": "stream",
     "text": [
      "../data/validation/Kazan/c46622f0dd832bbd.jpg\n"
     ]
    }
   ],
   "source": [
    "download_images(validation)"
   ]
  },
  {
   "cell_type": "markdown",
   "metadata": {},
   "source": [
    "#### Downloading test images"
   ]
  },
  {
   "cell_type": "code",
   "execution_count": 62,
   "metadata": {},
   "outputs": [
    {
     "name": "stdout",
     "output_type": "stream",
     "text": [
      "../data/test/Mount_Arapiles/35caae52597f19ea.jpg\n"
     ]
    }
   ],
   "source": [
    "download_images(test)"
   ]
  },
  {
   "cell_type": "code",
   "execution_count": null,
   "metadata": {},
   "outputs": [],
   "source": []
  }
 ],
 "metadata": {
  "kernelspec": {
   "display_name": "Python 3",
   "language": "python",
   "name": "python3"
  },
  "language_info": {
   "codemirror_mode": {
    "name": "ipython",
    "version": 3
   },
   "file_extension": ".py",
   "mimetype": "text/x-python",
   "name": "python",
   "nbconvert_exporter": "python",
   "pygments_lexer": "ipython3",
   "version": "3.7.4"
  }
 },
 "nbformat": 4,
 "nbformat_minor": 2
}
